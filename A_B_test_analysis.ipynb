{
 "cells": [
  {
   "cell_type": "markdown",
   "metadata": {},
   "source": [
    "# A/B test analysis"
   ]
  },
  {
   "cell_type": "markdown",
   "metadata": {},
   "source": [
    "A company selling a single product through their online application has conducted an A/B pricing test for that product. The traffic for the test was split 50%/50% between variant A/B. The price points are 4.99 (control) and 5.99 (test variant). Conduct an analysis of this experiment and provide a recommendation for choosing either of the two variants."
   ]
  },
  {
   "cell_type": "markdown",
   "metadata": {},
   "source": [
    "## Statistical assumptions"
   ]
  },
  {
   "cell_type": "markdown",
   "metadata": {},
   "source": [
    "<b> H0 - Null Hypothesis: </b> two conversion rates - for the control version and the new tested version - are equal. <br/>\n",
    "<b> H1 - Alternative Hypothesis: </b> two conversion rates - for the control version and the new tested version - are different. <br/>\n",
    "Intuitively - there is a risk that after increasing the price, the conversion may be lower."
   ]
  },
  {
   "cell_type": "markdown",
   "metadata": {},
   "source": [
    "<b> Statistical Significance: </b> 95% <br/>\n",
    "<b> Significance Level (alfa): </b> 0.05 -> 0.05 (5%) as the Significance Level of the A/B test means that there is 5% chance of the Type I Error (= rejecting the Null Hypothesis while the Alternative Hypothesis is false). <br/> <br/>\n",
    "    \n",
    "<b> Baseline Conversion Rate: </b> 25% <br/>\n",
    "<b> Sample Size per Variation: </b> 50,000 <br/>\n",
    "So - <b> Minimum Detectable Effect: </b>  3-4% <br/>\n",
    "<b> Statistical Power (beta): </b> 0.8 - 1 -> 0.8 (80%) as the Statistical Power of the A/B test means that there is 20% chance of the Type II Error (= not rejecting the Null Hypothesis while the Alternative Hypothesis is true) <br/> <br/>\n",
    "\n",
    "According to the following calculators: <br/>\n",
    "https://www.optimizely.com/sample-size-calculator/?conversion=25&effect=4&significance=95 <br/>\n",
    "https://www.abtasty.com/sample-size-calculator/ <br/> <br/>\n",
    "I assume that <b> the duration </b>of the test was adequately determined and that there was no special effects that could come from <b> seasonality or holiday period </b> (Black Friday, Cyber Mondays etc.) or <b> huge marketing promotions and campaigns </b> on the website."
   ]
  },
  {
   "cell_type": "markdown",
   "metadata": {},
   "source": [
    "<img src=\"https://www.invespcro.com/blog/images/blog-images/f9.jpg\" alt=\"statistics\">"
   ]
  },
  {
   "cell_type": "markdown",
   "metadata": {},
   "source": [
    "## Load Python libraries"
   ]
  },
  {
   "cell_type": "code",
   "execution_count": 3,
   "metadata": {},
   "outputs": [],
   "source": [
    "import pandas as pd\n",
    "import numpy as np\n",
    "from scipy.stats import norm\n",
    "from math import sqrt\n",
    "import matplotlib.pyplot as plt\n",
    "import seaborn as sns\n",
    "import scipy.stats as st"
   ]
  },
  {
   "cell_type": "markdown",
   "metadata": {},
   "source": [
    "## Load input file"
   ]
  },
  {
   "cell_type": "code",
   "execution_count": 48,
   "metadata": {},
   "outputs": [],
   "source": [
    "df = pd.read_csv(\"pricing_test_1.csv\") "
   ]
  },
  {
   "cell_type": "markdown",
   "metadata": {},
   "source": [
    "## Basic quality checks and preprocessing"
   ]
  },
  {
   "cell_type": "code",
   "execution_count": 49,
   "metadata": {},
   "outputs": [],
   "source": [
    "# Leave only columns that are needed (remove index column)\n",
    "df = df[['userId', 'variant', 'price', 'converted']]"
   ]
  },
  {
   "cell_type": "code",
   "execution_count": 50,
   "metadata": {},
   "outputs": [
    {
     "data": {
      "text/html": [
       "<div>\n",
       "<style scoped>\n",
       "    .dataframe tbody tr th:only-of-type {\n",
       "        vertical-align: middle;\n",
       "    }\n",
       "\n",
       "    .dataframe tbody tr th {\n",
       "        vertical-align: top;\n",
       "    }\n",
       "\n",
       "    .dataframe thead th {\n",
       "        text-align: right;\n",
       "    }\n",
       "</style>\n",
       "<table border=\"1\" class=\"dataframe\">\n",
       "  <thead>\n",
       "    <tr style=\"text-align: right;\">\n",
       "      <th></th>\n",
       "      <th>userId</th>\n",
       "      <th>variant</th>\n",
       "      <th>price</th>\n",
       "      <th>converted</th>\n",
       "    </tr>\n",
       "  </thead>\n",
       "  <tbody>\n",
       "    <tr>\n",
       "      <th>0</th>\n",
       "      <td>876112.0</td>\n",
       "      <td>A</td>\n",
       "      <td>4.99</td>\n",
       "      <td>1</td>\n",
       "    </tr>\n",
       "    <tr>\n",
       "      <th>1</th>\n",
       "      <td>876114.0</td>\n",
       "      <td>A</td>\n",
       "      <td>5.99</td>\n",
       "      <td>0</td>\n",
       "    </tr>\n",
       "    <tr>\n",
       "      <th>2</th>\n",
       "      <td>876116.0</td>\n",
       "      <td>A</td>\n",
       "      <td>5.99</td>\n",
       "      <td>0</td>\n",
       "    </tr>\n",
       "    <tr>\n",
       "      <th>3</th>\n",
       "      <td>876117.0</td>\n",
       "      <td>A</td>\n",
       "      <td>4.99</td>\n",
       "      <td>1</td>\n",
       "    </tr>\n",
       "    <tr>\n",
       "      <th>4</th>\n",
       "      <td>876118.0</td>\n",
       "      <td>A</td>\n",
       "      <td>4.99</td>\n",
       "      <td>0</td>\n",
       "    </tr>\n",
       "  </tbody>\n",
       "</table>\n",
       "</div>"
      ],
      "text/plain": [
       "     userId variant  price  converted\n",
       "0  876112.0       A   4.99          1\n",
       "1  876114.0       A   5.99          0\n",
       "2  876116.0       A   5.99          0\n",
       "3  876117.0       A   4.99          1\n",
       "4  876118.0       A   4.99          0"
      ]
     },
     "execution_count": 50,
     "metadata": {},
     "output_type": "execute_result"
    }
   ],
   "source": [
    "# Look at the first 5 rows in the dataset\n",
    "df.head()"
   ]
  },
  {
   "cell_type": "code",
   "execution_count": 51,
   "metadata": {},
   "outputs": [
    {
     "name": "stdout",
     "output_type": "stream",
     "text": [
      "Dataset contains 100000 rows and 4 columns\n"
     ]
    }
   ],
   "source": [
    "print(f\"The dataset contains {df.shape[0]} rows and {df.shape[1]} columns\")"
   ]
  },
  {
   "cell_type": "code",
   "execution_count": 52,
   "metadata": {},
   "outputs": [
    {
     "name": "stdout",
     "output_type": "stream",
     "text": [
      "<class 'pandas.core.frame.DataFrame'>\n",
      "RangeIndex: 100000 entries, 0 to 99999\n",
      "Data columns (total 4 columns):\n",
      " #   Column     Non-Null Count   Dtype  \n",
      "---  ------     --------------   -----  \n",
      " 0   userId     100000 non-null  float64\n",
      " 1   variant    100000 non-null  object \n",
      " 2   price      100000 non-null  float64\n",
      " 3   converted  100000 non-null  int64  \n",
      "dtypes: float64(2), int64(1), object(1)\n",
      "memory usage: 3.1+ MB\n"
     ]
    }
   ],
   "source": [
    "# Look at the basic info about the dataset\n",
    "\n",
    "df.info()"
   ]
  },
  {
   "cell_type": "markdown",
   "metadata": {},
   "source": [
    "<b> Observations: </b> <br/>\n",
    "-> Non-Null Count in each column = Number of entries -> no missing values <br/>\n",
    "-> Dtype of userId -> should be integer, not float <br/>\n",
    "-> Dtype of other columns -> correct"
   ]
  },
  {
   "cell_type": "code",
   "execution_count": 53,
   "metadata": {},
   "outputs": [
    {
     "name": "stdout",
     "output_type": "stream",
     "text": [
      "Dtype of userId column after conversion: int64\n"
     ]
    }
   ],
   "source": [
    "# Convert Dtype of the userId column\n",
    "\n",
    "df['userId'] = df['userId'].apply(np.int64)\n",
    "print(f\"Dtype of userId column after conversion: {df['userId'].dtypes}\")"
   ]
  },
  {
   "cell_type": "code",
   "execution_count": 54,
   "metadata": {},
   "outputs": [
    {
     "name": "stdout",
     "output_type": "stream",
     "text": [
      "Number of duplicated entries within the dataset: 0\n"
     ]
    }
   ],
   "source": [
    "# Check if there are any duplicates in the dataset\n",
    "\n",
    "print(f\"Number of duplicated entries within the dataset: {df.loc[df.duplicated()].shape[0]}\")\n",
    "#df.drop_duplicates(inplace=True)"
   ]
  },
  {
   "cell_type": "markdown",
   "metadata": {},
   "source": [
    "## Variants cleaning"
   ]
  },
  {
   "cell_type": "markdown",
   "metadata": {},
   "source": [
    "There is an inconsistency in the data here. There is no clear connection between variant and price. <br/><br/>\n",
    "<b> Assumptions: </b> <br/>\n",
    "-> variant A should always has assigned price = 4.99, <br/>\n",
    "-> variant B should always has assigned price = 5.99. "
   ]
  },
  {
   "cell_type": "code",
   "execution_count": 55,
   "metadata": {},
   "outputs": [
    {
     "data": {
      "text/html": [
       "<div>\n",
       "<style scoped>\n",
       "    .dataframe tbody tr th:only-of-type {\n",
       "        vertical-align: middle;\n",
       "    }\n",
       "\n",
       "    .dataframe tbody tr th {\n",
       "        vertical-align: top;\n",
       "    }\n",
       "\n",
       "    .dataframe thead th {\n",
       "        text-align: right;\n",
       "    }\n",
       "</style>\n",
       "<table border=\"1\" class=\"dataframe\">\n",
       "  <thead>\n",
       "    <tr style=\"text-align: right;\">\n",
       "      <th></th>\n",
       "      <th>userId</th>\n",
       "      <th>variant</th>\n",
       "      <th>price</th>\n",
       "      <th>converted</th>\n",
       "    </tr>\n",
       "  </thead>\n",
       "  <tbody>\n",
       "    <tr>\n",
       "      <th>99995</th>\n",
       "      <td>976104</td>\n",
       "      <td>B</td>\n",
       "      <td>5.99</td>\n",
       "      <td>1</td>\n",
       "    </tr>\n",
       "    <tr>\n",
       "      <th>99996</th>\n",
       "      <td>976106</td>\n",
       "      <td>B</td>\n",
       "      <td>4.99</td>\n",
       "      <td>0</td>\n",
       "    </tr>\n",
       "    <tr>\n",
       "      <th>99997</th>\n",
       "      <td>976108</td>\n",
       "      <td>B</td>\n",
       "      <td>5.99</td>\n",
       "      <td>0</td>\n",
       "    </tr>\n",
       "    <tr>\n",
       "      <th>99998</th>\n",
       "      <td>976109</td>\n",
       "      <td>B</td>\n",
       "      <td>4.99</td>\n",
       "      <td>1</td>\n",
       "    </tr>\n",
       "    <tr>\n",
       "      <th>99999</th>\n",
       "      <td>976111</td>\n",
       "      <td>B</td>\n",
       "      <td>5.99</td>\n",
       "      <td>1</td>\n",
       "    </tr>\n",
       "  </tbody>\n",
       "</table>\n",
       "</div>"
      ],
      "text/plain": [
       "       userId variant  price  converted\n",
       "99995  976104       B   5.99          1\n",
       "99996  976106       B   4.99          0\n",
       "99997  976108       B   5.99          0\n",
       "99998  976109       B   4.99          1\n",
       "99999  976111       B   5.99          1"
      ]
     },
     "execution_count": 55,
     "metadata": {},
     "output_type": "execute_result"
    }
   ],
   "source": [
    "df.tail()"
   ]
  },
  {
   "cell_type": "code",
   "execution_count": 10,
   "metadata": {},
   "outputs": [],
   "source": [
    "# Create a new column with clear assignment of variants\n",
    "\n",
    "df['variant_cleaned'] = np.where(df['price'] == 4.99, 'A', 'B')"
   ]
  },
  {
   "cell_type": "code",
   "execution_count": 11,
   "metadata": {},
   "outputs": [],
   "source": [
    "# Create separate DataFrames for each variant\n",
    "\n",
    "df_a = df.loc[df['variant_cleaned'] == 'A']\n",
    "df_b = df.loc[df['variant_cleaned'] == 'B']"
   ]
  },
  {
   "cell_type": "code",
   "execution_count": 15,
   "metadata": {},
   "outputs": [
    {
     "data": {
      "text/plain": [
       "4.99    49926\n",
       "Name: price, dtype: int64"
      ]
     },
     "execution_count": 15,
     "metadata": {},
     "output_type": "execute_result"
    }
   ],
   "source": [
    "# Re-check if df_a DataFrame contains only 4.99 prices\n",
    "\n",
    "df_a['price'].value_counts()"
   ]
  },
  {
   "cell_type": "code",
   "execution_count": 16,
   "metadata": {},
   "outputs": [
    {
     "data": {
      "text/plain": [
       "5.99    50074\n",
       "Name: price, dtype: int64"
      ]
     },
     "execution_count": 16,
     "metadata": {},
     "output_type": "execute_result"
    }
   ],
   "source": [
    "# Re-check if df_b DataFrame contains only 5.99 prices\n",
    "\n",
    "df_b['price'].value_counts()"
   ]
  },
  {
   "cell_type": "code",
   "execution_count": 58,
   "metadata": {},
   "outputs": [
    {
     "name": "stdout",
     "output_type": "stream",
     "text": [
      "Variant A - percentage of the whole sample: 49.93\n"
     ]
    }
   ],
   "source": [
    "variant_a_perc = round(df_a.shape[0] / df.shape[0] * 100, 2)\n",
    "print(f\"Variant A - percentage of the whole sample: {variant_a_perc}\")"
   ]
  },
  {
   "cell_type": "code",
   "execution_count": 59,
   "metadata": {},
   "outputs": [
    {
     "name": "stdout",
     "output_type": "stream",
     "text": [
      "Variant B - percentage of the whole sample: 50.07\n"
     ]
    }
   ],
   "source": [
    "variant_b_perc = round(df_b.shape[0] / df.shape[0] * 100, 2)\n",
    "print(f\"Variant B - percentage of the whole sample: {variant_b_perc}\")"
   ]
  },
  {
   "cell_type": "markdown",
   "metadata": {},
   "source": [
    "## Conversions"
   ]
  },
  {
   "cell_type": "code",
   "execution_count": 81,
   "metadata": {},
   "outputs": [
    {
     "data": {
      "text/plain": [
       "0    37201\n",
       "1    12725\n",
       "Name: converted, dtype: int64"
      ]
     },
     "execution_count": 81,
     "metadata": {},
     "output_type": "execute_result"
    }
   ],
   "source": [
    "# Conversion before the price increase (price = 4.99)\n",
    "\n",
    "df_a['converted'].value_counts()"
   ]
  },
  {
   "cell_type": "code",
   "execution_count": 82,
   "metadata": {},
   "outputs": [
    {
     "data": {
      "text/plain": [
       "0    37253\n",
       "1    12821\n",
       "Name: converted, dtype: int64"
      ]
     },
     "execution_count": 82,
     "metadata": {},
     "output_type": "execute_result"
    }
   ],
   "source": [
    "# Conversion after the price increase (price = 5.99)\n",
    "\n",
    "df_b['converted'].value_counts()"
   ]
  },
  {
   "cell_type": "code",
   "execution_count": 79,
   "metadata": {},
   "outputs": [
    {
     "name": "stdout",
     "output_type": "stream",
     "text": [
      "Variant A - conversion [%]: 25.4877\n",
      "Variant B - conversion [%]: 25.6041\n"
     ]
    }
   ],
   "source": [
    "variant_a_conversion = round(df_a.loc[df_a['converted'] == 1].shape[0] / df_a['converted'].shape[0] * 100, 4)\n",
    "\n",
    "variant_b_conversion = round(df_b.loc[df_b['converted'] == 1].shape[0] / df_b['converted'].shape[0] * 100, 4)\n",
    "\n",
    "print(f\"Variant A - conversion [%]: {variant_a_conversion}\")\n",
    "print(f\"Variant B - conversion [%]: {variant_b_conversion}\")"
   ]
  },
  {
   "cell_type": "code",
   "execution_count": 84,
   "metadata": {},
   "outputs": [
    {
     "name": "stdout",
     "output_type": "stream",
     "text": [
      "Relative change in conversion [%]: 0.4546\n"
     ]
    }
   ],
   "source": [
    "relative_conversion_change = round(100 - (variant_a_conversion * 100) / variant_b_conversion, 4)\n",
    "\n",
    "print(f\"Relative change in conversion [%]: {relative_conversion_change}\")"
   ]
  },
  {
   "cell_type": "markdown",
   "metadata": {},
   "source": [
    "<b> MDE = 3-4% </b> <br/>\n",
    "MDE is essentially the sensitivity of a test. In other words, it is the smallest relative change in conversion rate we can detect. <br/> <br/>\n",
    "For example, if our baseline conversion rate was 25%, and we set an MDE of 4%, our test would detect any changes that move the conversion rate outside the absolute range of 24% to 26% (a 4% relative effect is a 1% absolute change in conversion rate in this example). <br/> <br/>\n",
    "\n",
    "In the results -> Relative change in conversion: 0.4546% < 4% <br/>\n"
   ]
  },
  {
   "cell_type": "code",
   "execution_count": 119,
   "metadata": {},
   "outputs": [
    {
     "name": "stdout",
     "output_type": "stream",
     "text": [
      "N - Control: 49926 , Variant: 50074\n",
      "CRV - Control: 0.2549 , Variant: 0.2560\n",
      "Conversions -  Control: 12725 , Variant: 12821\n",
      "Var -  Control: 0.1899 , Variant: 0.1905\n",
      "------------\n",
      "Z-score: 0.4220\n",
      "------------\n",
      "p-value - two-tailed test: 0.673025\n"
     ]
    }
   ],
   "source": [
    "# Population\n",
    "n_control = 49926\n",
    "n_variant = 50074\n",
    "\n",
    "# Conversion rate\n",
    "crv_control = 0.254877\n",
    "crv_variant = 0.256041\n",
    "\n",
    "# Variance\n",
    "var_control = crv_control * (1-crv_control) \n",
    "var_variant = crv_variant * (1-crv_variant)\n",
    "\n",
    "conversions_control = crv_control * n_control\n",
    "conversions_variant = crv_variant * n_variant\n",
    "\n",
    "print('N - Control: {:0.0f} , Variant: {:0.0f}'.format(n_control, n_variant))\n",
    "print('CRV - Control: {:0.4f} , Variant: {:0.4f}'.format(crv_control, crv_variant))\n",
    "print('Conversions -  Control: {:0.0f} , Variant: {:0.0f}'.format(conversions_control, conversions_variant))\n",
    "print('Var -  Control: {:0.4f} , Variant: {:0.4f}'.format(var_control, var_variant))\n",
    "\n",
    "# Create combined random variable S\n",
    "mean_control = crv_control\n",
    "mean_variant = crv_variant\n",
    "S_mean = mean_variant - mean_control\n",
    "S_var = (var_control/n_control) + (var_variant/n_variant)\n",
    "\n",
    "print('------------')\n",
    "Z_score = S_mean / np.sqrt(S_var)\n",
    "print('Z-score: {:0.4f}'.format(Z_score))\n",
    "print('------------')\n",
    "p_value_1_tail = 1-st.norm.cdf(0.4220)\n",
    "p_value_2_tail = p_value_1_tail * 2\n",
    "\n",
    "print('p-value - two-tailed test: {:0.6f}'.format(p_value_2_tail))"
   ]
  },
  {
   "cell_type": "markdown",
   "metadata": {},
   "source": [
    "<b> p-value - one-sided test = 0.336049 </b> <br/>\n",
    "<b> p-value - two-sided test: 0.673025 </b> <br/>\n",
    "<b> p-value > 0.05 </b> <br/>\n",
    "No statistically significant difference was found. <br/>\n",
    "It indicates the Null Hypothesis is very likely. <br/>"
   ]
  },
  {
   "cell_type": "markdown",
   "metadata": {},
   "source": [
    "In this case, we have no reason to reject the null hypothesis, so we cannot say (with 95% certainty) that version B will change the conversion. It should be emphasized here that we have no grounds to reject the null hypothesis, and we do not accept the null hypothesis.<br/>\n",
    "I would assume that the price increase (from 4.99 to 5.99) should not have a negative impact on the conversion."
   ]
  },
  {
   "cell_type": "markdown",
   "metadata": {},
   "source": [
    "By the way, if the priority was to keep revenue at a similar level, by increasing the price, we can afford a slight decrease in conversion (in our case, up to a maximum of 16%)."
   ]
  },
  {
   "cell_type": "code",
   "execution_count": 96,
   "metadata": {},
   "outputs": [
    {
     "data": {
      "text/plain": [
       "0.1669"
      ]
     },
     "execution_count": 96,
     "metadata": {},
     "output_type": "execute_result"
    }
   ],
   "source": [
    "# Count relative price increase\n",
    "\n",
    "relative_price_change = round(1 - (4.99/5.99), 4)\n",
    "relative_price_change"
   ]
  },
  {
   "cell_type": "code",
   "execution_count": 104,
   "metadata": {},
   "outputs": [],
   "source": [
    "# Number of converted users - assumption for testing\n",
    "\n",
    "users_converted = 20000"
   ]
  },
  {
   "cell_type": "code",
   "execution_count": 102,
   "metadata": {},
   "outputs": [
    {
     "data": {
      "text/plain": [
       "99800.0"
      ]
     },
     "execution_count": 102,
     "metadata": {},
     "output_type": "execute_result"
    }
   ],
   "source": [
    "# Control (base) revenue based on old price 4.99\n",
    "\n",
    "base_revenue = users_converted * 4.99\n",
    "base_revenue"
   ]
  },
  {
   "cell_type": "code",
   "execution_count": 105,
   "metadata": {},
   "outputs": [
    {
     "data": {
      "text/plain": [
       "99805.38"
      ]
     },
     "execution_count": 105,
     "metadata": {},
     "output_type": "execute_result"
    }
   ],
   "source": [
    "# Target revenue based on decreased conversion and new price 5.99\n",
    "\n",
    "target_revenue = (users_converted - (users_converted * relative_price_change)) * 5.99\n",
    "target_revenue"
   ]
  },
  {
   "cell_type": "markdown",
   "metadata": {},
   "source": [
    "https://www.analytics-toolkit.com/tools/stats/statistical-significance.php?testType=0&marginRange=0&margin=0&variants=1&metricType=2&baselineFile=&MAX_FILE_SIZE=31457280&ssc0=49926&conv0=12725&cr0=25.487721828305894&ssm0=&mean0=&sd0=&ssc1=50074&conv1=12821&cr1=25.604105923233618&ssm1=&mean1=&sd1=&ssc2=&conv2=&cr2=&ssm2=&mean2=&sd2=&ssc3=&conv3=&cr3=&ssm3=&mean3=&sd3=&ssc4=&conv4=&cr4=&ssm4=&mean4=&sd4=&ssc5=&conv5=&cr5=&ssm5=&mean5=&sd5=&ssc6=&conv6=&cr6=&ssm6=&mean6=&sd6=&confidence=95"
   ]
  },
  {
   "cell_type": "markdown",
   "metadata": {},
   "source": [
    "<b> Sources: </b> <br/>\n",
    "https://www.invespcro.com/blog/how-to-analyze-a-b-test-results/ <br/>\n",
    "https://www.invespcro.com/blog/calculating-sample-size-for-an-ab-test/ <br/>\n",
    "https://www.conversion.pl/blog/testy-ab/ <br/>\n",
    "https://analyticsmayhem.com/digital-analytics/statistical-significance-ab-testing/"
   ]
  }
 ],
 "metadata": {
  "kernelspec": {
   "display_name": "Python 3",
   "language": "python",
   "name": "python3"
  },
  "language_info": {
   "codemirror_mode": {
    "name": "ipython",
    "version": 3
   },
   "file_extension": ".py",
   "mimetype": "text/x-python",
   "name": "python",
   "nbconvert_exporter": "python",
   "pygments_lexer": "ipython3",
   "version": "3.8.5"
  }
 },
 "nbformat": 4,
 "nbformat_minor": 4
}
